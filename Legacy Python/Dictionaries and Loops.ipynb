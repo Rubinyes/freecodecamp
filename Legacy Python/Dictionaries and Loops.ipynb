{
 "cells": [
  {
   "cell_type": "raw",
   "id": "8d45e52d-55bc-4b32-8f94-291e2dabaaa2",
   "metadata": {},
   "source": [
    "COUNTING WORDS IN TEXT:"
   ]
  },
  {
   "cell_type": "code",
   "execution_count": 3,
   "id": "7f012bf7-5832-4c69-89bf-23df7fda5418",
   "metadata": {},
   "outputs": [
    {
     "name": "stdout",
     "output_type": "stream",
     "text": [
      "Enter a line of text: \n"
     ]
    },
    {
     "name": "stdin",
     "output_type": "stream",
     "text": [
      "  hello world my name is rubin nepal and i am from nepal\n"
     ]
    },
    {
     "name": "stdout",
     "output_type": "stream",
     "text": [
      "Words: ['hello', 'world', 'my', 'name', 'is', 'rubin', 'nepal', 'and', 'i', 'am', 'from', 'nepal']\n",
      "Counting...\n",
      "Counts {'hello': 1, 'world': 1, 'my': 1, 'name': 1, 'is': 1, 'rubin': 1, 'nepal': 2, 'and': 1, 'i': 1, 'am': 1, 'from': 1}\n"
     ]
    }
   ],
   "source": [
    "counts = dict()\n",
    "print('Enter a line of text: ')\n",
    "line = input('')\n",
    "words = line.split()\n",
    "print('Words:', words)\n",
    "print('Counting...')\n",
    "for word in words:\n",
    "    counts[word] = counts.get(word, 0) +1\n",
    "print('Counts', counts)"
   ]
  },
  {
   "cell_type": "raw",
   "id": "5f302e9a-94a0-4392-8299-ab550f02204a",
   "metadata": {},
   "source": [
    "*The general pattern to count the words in a line of text is to split the line\n",
    "of text into words, then loop through the words and use a dictionary to track the count of each word independently."
   ]
  },
  {
   "cell_type": "raw",
   "id": "c3d5d02d-9ead-4b3e-98f9-c6d76aac9b92",
   "metadata": {},
   "source": [
    "DEFINITE LOOP AND DICTIONARIES:"
   ]
  },
  {
   "cell_type": "raw",
   "id": "dce70dca-3eae-432a-babd-9053760661a2",
   "metadata": {},
   "source": [
    "*Even through dictionaries are not stored in order, we can write a for \n",
    "loop that goes through alll the entries in a dictionary - actually it goes through all the entries in a dictionary and looks up the values\n",
    "                                            "
   ]
  },
  {
   "cell_type": "code",
   "execution_count": 4,
   "id": "624549c0-50aa-470b-85aa-ef656c137cff",
   "metadata": {},
   "outputs": [
    {
     "name": "stdout",
     "output_type": "stream",
     "text": [
      "chuck 1\n",
      "fred 42\n",
      "jan 100\n"
     ]
    }
   ],
   "source": [
    "counts = { 'chuck': 1, 'fred': 42, 'jan':100}\n",
    "for key in counts:\n",
    "    print(key, counts[key])"
   ]
  },
  {
   "cell_type": "code",
   "execution_count": 5,
   "id": "8e042ef3-a6c9-451e-a94c-b1b9e2b47a8f",
   "metadata": {},
   "outputs": [
    {
     "name": "stdout",
     "output_type": "stream",
     "text": [
      "['chuck', 'fred', 'jan']\n"
     ]
    }
   ],
   "source": [
    "jjj = { 'chuck': 1, 'fred': 42, 'jan':100}\n",
    "print(list(jjj))"
   ]
  },
  {
   "cell_type": "code",
   "execution_count": 6,
   "id": "3b3347ec-0987-4bea-a82b-06b256ca9dbb",
   "metadata": {},
   "outputs": [
    {
     "name": "stdout",
     "output_type": "stream",
     "text": [
      "dict_keys(['chuck', 'fred', 'jan'])\n"
     ]
    }
   ],
   "source": [
    "print(jjj.keys())"
   ]
  },
  {
   "cell_type": "code",
   "execution_count": 7,
   "id": "b2a8eea7-245c-49c6-b579-2a217c52a9f0",
   "metadata": {},
   "outputs": [
    {
     "name": "stdout",
     "output_type": "stream",
     "text": [
      "dict_values([1, 42, 100])\n"
     ]
    }
   ],
   "source": [
    "print(jjj.values())"
   ]
  },
  {
   "cell_type": "code",
   "execution_count": 8,
   "id": "45e493ae-2689-4641-9987-37eff4a84327",
   "metadata": {},
   "outputs": [
    {
     "name": "stdout",
     "output_type": "stream",
     "text": [
      "dict_items([('chuck', 1), ('fred', 42), ('jan', 100)])\n"
     ]
    }
   ],
   "source": [
    "print(jjj.items())"
   ]
  },
  {
   "cell_type": "raw",
   "id": "1fc8af55-7a1f-469b-8b61-a3d25749cd84",
   "metadata": {},
   "source": [
    "*you can get a list of keys, values, or items(both) from a dictionary."
   ]
  },
  {
   "cell_type": "raw",
   "id": "6d2dbf23-e642-4821-8fed-846420c4a21e",
   "metadata": {},
   "source": [
    "BONUS: TWO ITERATION VARIABLES!"
   ]
  },
  {
   "cell_type": "code",
   "execution_count": 9,
   "id": "576bd910-b253-4a40-b5c2-5f4d1948e568",
   "metadata": {},
   "outputs": [
    {
     "name": "stdout",
     "output_type": "stream",
     "text": [
      "chuck 1\n",
      "fred 42\n",
      "jan 100\n"
     ]
    }
   ],
   "source": [
    "jjj = { 'chuck': 1, 'fred': 42, 'jan':100}\n",
    "for aaa,bbb in jjj.items():\n",
    "    print(aaa,bbb)"
   ]
  },
  {
   "cell_type": "raw",
   "id": "f91215bf-2f21-4c1d-b5a1-ce093231d6fc",
   "metadata": {},
   "source": [
    "*we loop through the key-value pairs in a dictonary using \"two\" iteration variables\n",
    "*each iteration, the first variable is the key and the second variable \n",
    "is the corresponding value for the key"
   ]
  },
  {
   "cell_type": "code",
   "execution_count": 13,
   "id": "7f39a8a0-6199-4421-a86a-e484a3c379d6",
   "metadata": {},
   "outputs": [
    {
     "name": "stdin",
     "output_type": "stream",
     "text": [
      "Enter file:  x.txt\n"
     ]
    },
    {
     "name": "stdout",
     "output_type": "stream",
     "text": [
      "jan 100\n"
     ]
    }
   ],
   "source": [
    "name = input('Enter file: ')\n",
    "handle = open(name)\n",
    "\n",
    "count = dict()\n",
    "for line in handle:\n",
    "    words = line.split()\n",
    "    for word in words:\n",
    "         counts[word] = counts.get(word,0) +1\n",
    "\n",
    "\n",
    "bigcount = None\n",
    "bigword = None\n",
    "for word,count in counts.items():\n",
    "    if bigword is None or count > bigcount:\n",
    "        bigword = word\n",
    "        bigcount = count\n",
    "\n",
    "print(bigword, bigcount)"
   ]
  },
  {
   "cell_type": "code",
   "execution_count": 1,
   "id": "b1517561-93d8-470f-aee9-76f041339311",
   "metadata": {},
   "outputs": [
    {
     "name": "stdout",
     "output_type": "stream",
     "text": [
      "annie 42\n",
      "jan 100\n"
     ]
    }
   ],
   "source": [
    "counts = { 'chuck' : 1 , 'annie' : 42, 'jan': 100}\n",
    "for key in counts:\n",
    "    if counts[key] > 10:\n",
    "        print(key, counts[key])"
   ]
  },
  {
   "cell_type": "code",
   "execution_count": null,
   "id": "2012958c-9a7a-403b-9fd6-1f6ec3b07667",
   "metadata": {},
   "outputs": [],
   "source": []
  }
 ],
 "metadata": {
  "kernelspec": {
   "display_name": "Python 3 (ipykernel)",
   "language": "python",
   "name": "python3"
  },
  "language_info": {
   "codemirror_mode": {
    "name": "ipython",
    "version": 3
   },
   "file_extension": ".py",
   "mimetype": "text/x-python",
   "name": "python",
   "nbconvert_exporter": "python",
   "pygments_lexer": "ipython3",
   "version": "3.12.3"
  }
 },
 "nbformat": 4,
 "nbformat_minor": 5
}
