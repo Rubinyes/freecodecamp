{
 "cells": [
  {
   "cell_type": "code",
   "execution_count": 2,
   "id": "7049e6d9-197c-4aba-93ae-f66226ff3147",
   "metadata": {},
   "outputs": [
    {
     "name": "stdout",
     "output_type": "stream",
     "text": [
      "['With', 'three', 'words']\n"
     ]
    }
   ],
   "source": [
    "abc = 'With three words'\n",
    "stuff = abc.split()\n",
    "print(stuff)"
   ]
  },
  {
   "cell_type": "code",
   "execution_count": 3,
   "id": "d1d287a8-344f-46fc-8224-9c25352b258c",
   "metadata": {},
   "outputs": [
    {
     "name": "stdout",
     "output_type": "stream",
     "text": [
      "3\n"
     ]
    }
   ],
   "source": [
    "print(len(stuff))"
   ]
  },
  {
   "cell_type": "code",
   "execution_count": 4,
   "id": "1cac8552-ff42-4273-a9c6-be19ad4bfecc",
   "metadata": {},
   "outputs": [
    {
     "name": "stdout",
     "output_type": "stream",
     "text": [
      "With\n"
     ]
    }
   ],
   "source": [
    "print(stuff[0])"
   ]
  },
  {
   "cell_type": "code",
   "execution_count": 5,
   "id": "1d858e19-5597-4a7f-8b98-51eafe337d4e",
   "metadata": {},
   "outputs": [
    {
     "name": "stdout",
     "output_type": "stream",
     "text": [
      "With\n",
      "three\n",
      "words\n"
     ]
    }
   ],
   "source": [
    "for w in stuff:\n",
    "    print(w)"
   ]
  },
  {
   "cell_type": "raw",
   "id": "8c38f294-3a4c-4684-aa72-1342a9ab7997",
   "metadata": {},
   "source": [
    "Split breaks a string into parts and produes a list of strings. We think of these as words. We can ascess a Particular word or loop through all the words."
   ]
  },
  {
   "cell_type": "code",
   "execution_count": null,
   "id": "99046192-5873-4989-82c1-104935a14932",
   "metadata": {},
   "outputs": [],
   "source": []
  },
  {
   "cell_type": "code",
   "execution_count": 7,
   "id": "0b278f69-4222-4994-9c6d-ab6d9b81c252",
   "metadata": {},
   "outputs": [
    {
     "name": "stdout",
     "output_type": "stream",
     "text": [
      "['A', 'lot', 'of', 'spaces']\n"
     ]
    }
   ],
   "source": [
    "line = 'A lot           of spaces'\n",
    "etc = line.split()\n",
    "print(etc)"
   ]
  },
  {
   "cell_type": "code",
   "execution_count": 8,
   "id": "c9df3f61-601d-48c0-9cd5-fac1fb41028e",
   "metadata": {},
   "outputs": [
    {
     "name": "stdout",
     "output_type": "stream",
     "text": [
      "['first;second;third']\n"
     ]
    }
   ],
   "source": [
    "line = 'first;second;third'\n",
    "thing = line.split()\n",
    "print(thing)"
   ]
  },
  {
   "cell_type": "code",
   "execution_count": 10,
   "id": "e17d2e6b-d7d7-4547-903b-e37f25fa36ce",
   "metadata": {},
   "outputs": [
    {
     "name": "stdout",
     "output_type": "stream",
     "text": [
      "1\n"
     ]
    }
   ],
   "source": [
    "print(len(thing))"
   ]
  },
  {
   "cell_type": "code",
   "execution_count": 11,
   "id": "dc94d95a-9430-41d4-9e9c-869daf67ec23",
   "metadata": {},
   "outputs": [
    {
     "name": "stdout",
     "output_type": "stream",
     "text": [
      "['first', 'second', 'third']\n"
     ]
    }
   ],
   "source": [
    "thing = line.split(';')\n",
    "print(thing)"
   ]
  },
  {
   "cell_type": "code",
   "execution_count": 12,
   "id": "cbd361ef-389f-4c3c-bd8a-fa81cdaf47d7",
   "metadata": {},
   "outputs": [
    {
     "name": "stdout",
     "output_type": "stream",
     "text": [
      "3\n"
     ]
    }
   ],
   "source": [
    "print(len(thing))"
   ]
  },
  {
   "cell_type": "raw",
   "id": "7d99f199-70d5-42d6-a0fd-aa6cff2209eb",
   "metadata": {},
   "source": [
    "*When you do not specify a delimiter, multiplier spaces are treated like one\n",
    " delimiter\n",
    "*You can specify what delimiter character to use in the spliting."
   ]
  },
  {
   "cell_type": "raw",
   "id": "00a1dae1-c3e9-4e2e-819d-4ec01d93d108",
   "metadata": {},
   "source": [
    "The double split pattern"
   ]
  },
  {
   "cell_type": "code",
   "execution_count": 16,
   "id": "305db633-5b94-414d-8a76-6f4faf29f046",
   "metadata": {},
   "outputs": [
    {
     "name": "stdout",
     "output_type": "stream",
     "text": [
      "t\n"
     ]
    }
   ],
   "source": [
    "a = 'From stephen.marquard@uct.ac.za Sat Jan 5 09:14:16 2008'\n",
    "words = a.split()\n",
    "email = words[2]\n",
    "pieces = email.split('a')\n",
    "print(pieces[1])"
   ]
  },
  {
   "cell_type": "raw",
   "id": "226f7471-148d-471a-b210-97357a742d62",
   "metadata": {},
   "source": [
    "Excersise:"
   ]
  },
  {
   "cell_type": "code",
   "execution_count": 20,
   "id": "ea84a1b5-ba8c-4d60-b021-1e5a7fc6ce10",
   "metadata": {},
   "outputs": [
    {
     "name": "stdout",
     "output_type": "stream",
     "text": [
      "lar@freecodecamp.org\n"
     ]
    }
   ],
   "source": [
    "words = 'His e-mail is q-lar@freecodecamp.org'\n",
    "pieces = words.split()\n",
    "parts = pieces[3].split('-')\n",
    "n = parts[1]\n",
    "print(n)"
   ]
  },
  {
   "cell_type": "code",
   "execution_count": null,
   "id": "b5f6a426-0e55-425b-a586-b139f19e1419",
   "metadata": {},
   "outputs": [],
   "source": []
  }
 ],
 "metadata": {
  "kernelspec": {
   "display_name": "Python 3 (ipykernel)",
   "language": "python",
   "name": "python3"
  },
  "language_info": {
   "codemirror_mode": {
    "name": "ipython",
    "version": 3
   },
   "file_extension": ".py",
   "mimetype": "text/x-python",
   "name": "python",
   "nbconvert_exporter": "python",
   "pygments_lexer": "ipython3",
   "version": "3.12.3"
  }
 },
 "nbformat": 4,
 "nbformat_minor": 5
}
