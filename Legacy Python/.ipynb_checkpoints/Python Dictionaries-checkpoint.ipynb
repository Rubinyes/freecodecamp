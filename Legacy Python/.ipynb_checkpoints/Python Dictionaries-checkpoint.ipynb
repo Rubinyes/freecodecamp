{
 "cells": [
  {
   "cell_type": "raw",
   "id": "08b253ac-62af-4830-a428-7e77b789df31",
   "metadata": {},
   "source": [
    "What is not a collection:\n",
    "Most of our variables have one value in them- when we put a new value \n",
    "in the variable - the old value is overwritten:"
   ]
  },
  {
   "cell_type": "code",
   "execution_count": 1,
   "id": "67d02008-d0e9-47a6-b7b5-64cb7e96e6ac",
   "metadata": {},
   "outputs": [
    {
     "name": "stdout",
     "output_type": "stream",
     "text": [
      "4\n"
     ]
    }
   ],
   "source": [
    "x=2\n",
    "x=4\n",
    "print(x)"
   ]
  },
  {
   "cell_type": "raw",
   "id": "09c29102-2742-4961-bca7-b7d5e0087d9c",
   "metadata": {},
   "source": [
    "A dictionaries is like a bag of values each with its own label.\n",
    "A list is like a linear collection of values that stays in order"
   ]
  },
  {
   "cell_type": "code",
   "execution_count": 3,
   "id": "9e38067c-f644-47d5-b9ee-c83b479523b7",
   "metadata": {},
   "outputs": [
    {
     "name": "stdout",
     "output_type": "stream",
     "text": [
      "{'money': 12, 'candy': 3, 'tisues': 75}\n"
     ]
    }
   ],
   "source": [
    "purse = dict()\n",
    "purse['money'] = 12\n",
    "purse['candy'] = 3\n",
    "purse['tisues'] = 75\n",
    "print(purse)"
   ]
  },
  {
   "cell_type": "code",
   "execution_count": 4,
   "id": "55b7d20e-7c92-4a72-aac2-d336854e9350",
   "metadata": {},
   "outputs": [
    {
     "name": "stdout",
     "output_type": "stream",
     "text": [
      "3\n"
     ]
    }
   ],
   "source": [
    "print(purse['candy'])"
   ]
  },
  {
   "cell_type": "code",
   "execution_count": 6,
   "id": "13a32f3e-a2e7-4a26-a289-75e23b9d7920",
   "metadata": {},
   "outputs": [
    {
     "name": "stdout",
     "output_type": "stream",
     "text": [
      "{'money': 12, 'candy': 7, 'tisues': 75}\n"
     ]
    }
   ],
   "source": [
    "purse['candy'] = purse['candy'] + 2\n",
    "print(purse)"
   ]
  },
  {
   "cell_type": "raw",
   "id": "cc1fe08a-0405-4886-abd7-a0c0a792cf53",
   "metadata": {},
   "source": [
    "*list index their entries based on the position in the list\n",
    "*DIctionaries are like bags -no order\n",
    "*So we index the things we put in the dictionary with a \"lookup tag\""
   ]
  },
  {
   "cell_type": "raw",
   "id": "0128c32b-64bf-4779-8068-4fe96ce3f12f",
   "metadata": {},
   "source": [
    "COMPARING LISTS AND DICTIONARIES"
   ]
  },
  {
   "cell_type": "code",
   "execution_count": 7,
   "id": "c17877ca-ba96-4bea-889a-637bfc08863c",
   "metadata": {},
   "outputs": [
    {
     "name": "stdout",
     "output_type": "stream",
     "text": [
      "{'age': 21, 'course': 162}\n"
     ]
    }
   ],
   "source": [
    "ddd = dict()\n",
    "ddd['age'] = 21\n",
    "ddd['course'] = 162\n",
    "print(ddd)"
   ]
  },
  {
   "cell_type": "code",
   "execution_count": 8,
   "id": "da56c115-1aaa-4b71-aada-5e6e15b96da3",
   "metadata": {},
   "outputs": [
    {
     "name": "stdout",
     "output_type": "stream",
     "text": [
      "{'age': 23, 'course': 162}\n"
     ]
    }
   ],
   "source": [
    "ddd['age'] = 23\n",
    "print(ddd)"
   ]
  },
  {
   "cell_type": "raw",
   "id": "31d42e8c-3c16-490e-8f4a-ccea685eb8ef",
   "metadata": {},
   "source": [
    "With list:"
   ]
  },
  {
   "cell_type": "code",
   "execution_count": 9,
   "id": "bb82bcd4-ccd6-4a69-b57c-9df9e77d9d8f",
   "metadata": {},
   "outputs": [
    {
     "name": "stdout",
     "output_type": "stream",
     "text": [
      "[21, 162]\n"
     ]
    }
   ],
   "source": [
    "lst = list()\n",
    "lst.append(21)\n",
    "lst.append(162)\n",
    "print(lst)"
   ]
  },
  {
   "cell_type": "code",
   "execution_count": 10,
   "id": "2cf7af42-2861-4cb7-850a-164b5f7a9eb8",
   "metadata": {},
   "outputs": [
    {
     "name": "stdout",
     "output_type": "stream",
     "text": [
      "[23, 162]\n"
     ]
    }
   ],
   "source": [
    "lst[0] = 23\n",
    "print(lst)"
   ]
  },
  {
   "cell_type": "raw",
   "id": "cf858b40-0c40-4579-b0e9-3be0a0ed1744",
   "metadata": {},
   "source": [
    "DICTIONARY LITERALS (CONSTANTS)\n",
    "*Dictionary literals use curly braces and have a list of key: value pairs\n",
    "*you can make an empty dictionary using empty curly braces"
   ]
  },
  {
   "cell_type": "code",
   "execution_count": 3,
   "id": "321bb249-a9ba-400c-902f-3ce087dfabb1",
   "metadata": {},
   "outputs": [
    {
     "name": "stdout",
     "output_type": "stream",
     "text": [
      "{'chuck': 1, 'fred': 42, 'jan': 100}\n"
     ]
    }
   ],
   "source": [
    "jjj = {'chuck':1, 'fred':42, 'jan':100}\n",
    "print(jjj)"
   ]
  },
  {
   "cell_type": "code",
   "execution_count": 4,
   "id": "03749094-2c9a-48c9-b796-53e5f48d3ef9",
   "metadata": {},
   "outputs": [
    {
     "name": "stdout",
     "output_type": "stream",
     "text": [
      "{}\n"
     ]
    }
   ],
   "source": [
    "ooo = { }\n",
    "print(ooo)"
   ]
  },
  {
   "cell_type": "raw",
   "id": "8271236d-6bac-4741-bd76-9b3f14795300",
   "metadata": {},
   "source": [
    "What does dict equal after running this code ?:\n",
    "dict ={\"Fri: 20, \"Thu\": 6, \"Sat\": 1}\n",
    "dict[\"Thu\"] = 13\n",
    "dict[\"Sat\"] = 2\n",
    "dict[\"Sun\"] = 9"
   ]
  },
  {
   "cell_type": "code",
   "execution_count": 13,
   "id": "e5a701c9-2fa2-42c1-86bd-9efa2375cdf6",
   "metadata": {},
   "outputs": [
    {
     "name": "stdout",
     "output_type": "stream",
     "text": [
      "{'Fri': 20, 'Thu': 13, 'Sat': 2, 'Sun': 9}\n"
     ]
    }
   ],
   "source": [
    "dict = {\"Fri\": 20, \"Thu\": 6, \"Sat\": 1}\n",
    "dict[\"Thu\"] =13\n",
    "dict[\"Sat\"] =2\n",
    "dict[\"Sun\"] =9\n",
    "print(dict)"
   ]
  },
  {
   "cell_type": "code",
   "execution_count": null,
   "id": "721aa779-261f-4d74-94fb-af7baf8d4ede",
   "metadata": {},
   "outputs": [],
   "source": []
  }
 ],
 "metadata": {
  "kernelspec": {
   "display_name": "Python 3 (ipykernel)",
   "language": "python",
   "name": "python3"
  },
  "language_info": {
   "codemirror_mode": {
    "name": "ipython",
    "version": 3
   },
   "file_extension": ".py",
   "mimetype": "text/x-python",
   "name": "python",
   "nbconvert_exporter": "python",
   "pygments_lexer": "ipython3",
   "version": "3.12.3"
  }
 },
 "nbformat": 4,
 "nbformat_minor": 5
}
