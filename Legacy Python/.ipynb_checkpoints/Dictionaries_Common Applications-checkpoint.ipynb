{
 "cells": [
  {
   "cell_type": "raw",
   "id": "7369ea05-ba92-42c9-9682-a00e732a30fe",
   "metadata": {},
   "source": [
    "MOST COMMON NAME?"
   ]
  },
  {
   "cell_type": "code",
   "execution_count": 5,
   "id": "7308a593-1904-456d-8d07-ca3a8ccec8b1",
   "metadata": {},
   "outputs": [
    {
     "name": "stdout",
     "output_type": "stream",
     "text": [
      "{'csev': 1, 'swen': 1}\n"
     ]
    }
   ],
   "source": [
    "ccc = dict()\n",
    "ccc['csev'] = 1\n",
    "ccc['swen'] = 1\n",
    "print(ccc)\n"
   ]
  },
  {
   "cell_type": "raw",
   "id": "44149a00-c3d4-4b81-b6fe-63263a651505",
   "metadata": {},
   "source": [
    "DICTIONARY TRACEBACKS\n",
    "*It is an error to reference a key which is not inthe dictionary\n",
    "*We can use the in operator to see if a key is in the dictionary "
   ]
  },
  {
   "cell_type": "code",
   "execution_count": 6,
   "id": "53cd9bae-0b7f-461f-90ac-95826d338536",
   "metadata": {},
   "outputs": [
    {
     "ename": "KeyError",
     "evalue": "'csev'",
     "output_type": "error",
     "traceback": [
      "\u001b[0;31m---------------------------------------------------------------------------\u001b[0m",
      "\u001b[0;31mKeyError\u001b[0m                                  Traceback (most recent call last)",
      "Cell \u001b[0;32mIn[6], line 2\u001b[0m\n\u001b[1;32m      1\u001b[0m ccc \u001b[38;5;241m=\u001b[39m \u001b[38;5;28mdict\u001b[39m()\n\u001b[0;32m----> 2\u001b[0m \u001b[38;5;28mprint\u001b[39m(\u001b[43mccc\u001b[49m\u001b[43m[\u001b[49m\u001b[38;5;124;43m'\u001b[39;49m\u001b[38;5;124;43mcsev\u001b[39;49m\u001b[38;5;124;43m'\u001b[39;49m\u001b[43m]\u001b[49m)\n",
      "\u001b[0;31mKeyError\u001b[0m: 'csev'"
     ]
    }
   ],
   "source": [
    "ccc = dict()\n",
    "print(ccc['csev'])"
   ]
  },
  {
   "cell_type": "code",
   "execution_count": 7,
   "id": "9a524e6a-e12f-4d9c-b164-a4cb4b65d64a",
   "metadata": {},
   "outputs": [
    {
     "data": {
      "text/plain": [
       "False"
      ]
     },
     "execution_count": 7,
     "metadata": {},
     "output_type": "execute_result"
    }
   ],
   "source": [
    "'csev' in ccc"
   ]
  },
  {
   "cell_type": "raw",
   "id": "dfb4c9fa-9f1d-4a86-a9fc-b9fbd2ab6b69",
   "metadata": {},
   "source": [
    "WHEN WE SEE A NEW NAME\n",
    "*when we encounter a new name, we need to add a new entry in the dictionary and if thsi the second or later time we have seen the name"
   ]
  },
  {
   "cell_type": "code",
   "execution_count": 8,
   "id": "656ef4de-2053-4ef6-849e-176e0c3dfbba",
   "metadata": {},
   "outputs": [
    {
     "name": "stdout",
     "output_type": "stream",
     "text": [
      "{'csev': 1, 'cwen': 2, 'zqian': 1}\n"
     ]
    }
   ],
   "source": [
    "counts = dict()\n",
    "names = ['csev', 'cwen', 'zqian', 'cwen']\n",
    "for name in names:\n",
    "    if name not in counts:\n",
    "        counts[name] = 1\n",
    "    else :\n",
    "        counts[name] = counts[name] + 1\n",
    "print(counts)"
   ]
  },
  {
   "cell_type": "raw",
   "id": "88962a10-8d4c-4059-95d8-4aedfab9cb62",
   "metadata": {},
   "source": [
    "THE get METHOD FOR DICTIONARIES\n",
    "*The pattern of checking to see if a key is already in a dictionary and assuming a default value if the key is not there is so common that there is a method called get() that does this for us."
   ]
  },
  {
   "cell_type": "code",
   "execution_count": null,
   "id": "266b758c-e76f-4b03-854f-ddc7aca2c817",
   "metadata": {},
   "outputs": [],
   "source": [
    "if name in counts:\n",
    "    x = counts[name]\n",
    "else:\n",
    "    x = 0\n"
   ]
  },
  {
   "cell_type": "code",
   "execution_count": null,
   "id": "0bfa06a7-3cc5-4b8a-bbbd-1408c7271320",
   "metadata": {},
   "outputs": [],
   "source": [
    "x = counts.get(name, 0)\n"
   ]
  },
  {
   "cell_type": "code",
   "execution_count": 4,
   "id": "9b9cd210-8604-4d8c-a29e-8405084fe700",
   "metadata": {},
   "outputs": [
    {
     "name": "stdout",
     "output_type": "stream",
     "text": [
      "{'csev': 1, 'cwen': 2, 'zqian': 1}\n"
     ]
    }
   ],
   "source": [
    "counts = dict()\n",
    "names = names = ['csev', 'cwen', 'zqian', 'cwen']\n",
    "for name in names:\n",
    "    counts[name] = counts.get(name, 0) +1\n",
    "print(counts)"
   ]
  },
  {
   "cell_type": "raw",
   "id": "ee853455-296c-4e1d-b2ed-4c076604b3b1",
   "metadata": {},
   "source": [
    "we can use get() and provide a default value of zero when the key is not\n",
    "in the dictionary and then just add one"
   ]
  },
  {
   "cell_type": "code",
   "execution_count": 8,
   "id": "58a06653-5ac7-4ca5-90c0-bbe59c9d8338",
   "metadata": {},
   "outputs": [
    {
     "name": "stdout",
     "output_type": "stream",
     "text": [
      "10\n"
     ]
    }
   ],
   "source": [
    "counts = { 'quincy' : 1 , 'mrugesh' : 42, 'beau': 100, '0': 10}\n",
    "print(counts.get('0', 0))\n"
   ]
  },
  {
   "cell_type": "code",
   "execution_count": null,
   "id": "2e431cdb-acfd-4152-95c5-8a827625766e",
   "metadata": {},
   "outputs": [],
   "source": []
  }
 ],
 "metadata": {
  "kernelspec": {
   "display_name": "Python 3 (ipykernel)",
   "language": "python",
   "name": "python3"
  },
  "language_info": {
   "codemirror_mode": {
    "name": "ipython",
    "version": 3
   },
   "file_extension": ".py",
   "mimetype": "text/x-python",
   "name": "python",
   "nbconvert_exporter": "python",
   "pygments_lexer": "ipython3",
   "version": "3.12.3"
  }
 },
 "nbformat": 4,
 "nbformat_minor": 5
}
