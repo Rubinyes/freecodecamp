{
 "cells": [
  {
   "cell_type": "raw",
   "id": "bd469782-4742-47f2-90cd-b7f2a036b559",
   "metadata": {},
   "source": [
    "THE TUPLES COLLECTION"
   ]
  },
  {
   "cell_type": "code",
   "execution_count": 1,
   "id": "52fc628b-6f25-43ed-a2bc-5703414e3868",
   "metadata": {},
   "outputs": [
    {
     "name": "stdout",
     "output_type": "stream",
     "text": [
      "quincy 1\n",
      "beau 5\n",
      "kris 9\n"
     ]
    }
   ],
   "source": [
    "#What will the following code print?:\n",
    "d = dict()\n",
    "d['quincy'] = 1\n",
    "d['beau'] = 5\n",
    "d['kris'] = 9\n",
    "for (k,i) in d.items():\n",
    "    print(k, i)"
   ]
  },
  {
   "cell_type": "code",
   "execution_count": null,
   "id": "9801dcab-e264-43b3-98e3-4c1ebb85894f",
   "metadata": {},
   "outputs": [],
   "source": []
  }
 ],
 "metadata": {
  "kernelspec": {
   "display_name": "Python 3 (ipykernel)",
   "language": "python",
   "name": "python3"
  },
  "language_info": {
   "codemirror_mode": {
    "name": "ipython",
    "version": 3
   },
   "file_extension": ".py",
   "mimetype": "text/x-python",
   "name": "python",
   "nbconvert_exporter": "python",
   "pygments_lexer": "ipython3",
   "version": "3.12.3"
  }
 },
 "nbformat": 4,
 "nbformat_minor": 5
}
